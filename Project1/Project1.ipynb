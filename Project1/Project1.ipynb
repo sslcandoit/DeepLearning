{
 "cells": [
  {
   "cell_type": "code",
   "execution_count": 1,
   "id": "9bc32801",
   "metadata": {},
   "outputs": [
    {
     "name": "stderr",
     "output_type": "stream",
     "text": [
      "2022-10-17 00:45:24.026384: I tensorflow/core/platform/cpu_feature_guard.cc:193] This TensorFlow binary is optimized with oneAPI Deep Neural Network Library (oneDNN) to use the following CPU instructions in performance-critical operations:  AVX2 FMA\n",
      "To enable them in other operations, rebuild TensorFlow with the appropriate compiler flags.\n"
     ]
    }
   ],
   "source": [
    "# Import Libraries\n",
    "import numpy as np\n",
    "import pandas as pd\n",
    "import warnings\n",
    "warnings.filterwarnings(\"ignore\")\n",
    "import datetime\n",
    "import tensorflow_data_validation as tfdv"
   ]
  },
  {
   "cell_type": "code",
   "execution_count": 2,
   "id": "cff7f69d",
   "metadata": {},
   "outputs": [],
   "source": [
    "# read parquet files via Pandas within python\n",
    "jan2020 = pd.read_parquet('yellow_tripdata_2020-01.parquet', engine='fastparquet')\n",
    "mar2020 = pd.read_parquet('yellow_tripdata_2020-03.parquet', engine='fastparquet')\n",
    "may2020 = pd.read_parquet('yellow_tripdata_2020-05.parquet', engine='fastparquet')"
   ]
  },
  {
   "cell_type": "code",
   "execution_count": 3,
   "id": "54d899b0",
   "metadata": {},
   "outputs": [
    {
     "data": {
      "text/plain": [
       "((6405008, 19), (3007687, 19), (348415, 19))"
      ]
     },
     "execution_count": 3,
     "metadata": {},
     "output_type": "execute_result"
    }
   ],
   "source": [
    "# check total data volume\n",
    "jan2020.shape, mar2020.shape, may2020.shape"
   ]
  },
  {
   "cell_type": "markdown",
   "id": "861414d7",
   "metadata": {},
   "source": [
    "# Training dataset on data based on March of 2020"
   ]
  },
  {
   "cell_type": "markdown",
   "id": "f134d66c",
   "metadata": {},
   "source": [
    "## Prep the data in order to be ready to be fed to a model."
   ]
  },
  {
   "cell_type": "code",
   "execution_count": 4,
   "id": "2a4d5881",
   "metadata": {},
   "outputs": [
    {
     "data": {
      "text/html": [
       "<div>\n",
       "<style scoped>\n",
       "    .dataframe tbody tr th:only-of-type {\n",
       "        vertical-align: middle;\n",
       "    }\n",
       "\n",
       "    .dataframe tbody tr th {\n",
       "        vertical-align: top;\n",
       "    }\n",
       "\n",
       "    .dataframe thead th {\n",
       "        text-align: right;\n",
       "    }\n",
       "</style>\n",
       "<table border=\"1\" class=\"dataframe\">\n",
       "  <thead>\n",
       "    <tr style=\"text-align: right;\">\n",
       "      <th></th>\n",
       "      <th>VendorID</th>\n",
       "      <th>tpep_pickup_datetime</th>\n",
       "      <th>tpep_dropoff_datetime</th>\n",
       "      <th>passenger_count</th>\n",
       "      <th>trip_distance</th>\n",
       "      <th>RatecodeID</th>\n",
       "      <th>store_and_fwd_flag</th>\n",
       "      <th>PULocationID</th>\n",
       "      <th>DOLocationID</th>\n",
       "      <th>payment_type</th>\n",
       "      <th>fare_amount</th>\n",
       "      <th>extra</th>\n",
       "      <th>mta_tax</th>\n",
       "      <th>tip_amount</th>\n",
       "      <th>tolls_amount</th>\n",
       "      <th>improvement_surcharge</th>\n",
       "      <th>total_amount</th>\n",
       "      <th>congestion_surcharge</th>\n",
       "      <th>airport_fee</th>\n",
       "    </tr>\n",
       "  </thead>\n",
       "  <tbody>\n",
       "    <tr>\n",
       "      <th>0</th>\n",
       "      <td>1</td>\n",
       "      <td>2020-03-01 00:31:13</td>\n",
       "      <td>2020-03-01 01:01:42</td>\n",
       "      <td>1.0</td>\n",
       "      <td>4.70</td>\n",
       "      <td>1.0</td>\n",
       "      <td>N</td>\n",
       "      <td>88</td>\n",
       "      <td>255</td>\n",
       "      <td>1</td>\n",
       "      <td>22.00</td>\n",
       "      <td>3.0</td>\n",
       "      <td>0.5</td>\n",
       "      <td>2.00</td>\n",
       "      <td>0.0</td>\n",
       "      <td>0.3</td>\n",
       "      <td>27.80</td>\n",
       "      <td>2.5</td>\n",
       "      <td>NaN</td>\n",
       "    </tr>\n",
       "    <tr>\n",
       "      <th>1</th>\n",
       "      <td>2</td>\n",
       "      <td>2020-03-01 00:08:22</td>\n",
       "      <td>2020-03-01 00:08:49</td>\n",
       "      <td>1.0</td>\n",
       "      <td>0.00</td>\n",
       "      <td>1.0</td>\n",
       "      <td>N</td>\n",
       "      <td>193</td>\n",
       "      <td>193</td>\n",
       "      <td>2</td>\n",
       "      <td>2.50</td>\n",
       "      <td>0.5</td>\n",
       "      <td>0.5</td>\n",
       "      <td>0.00</td>\n",
       "      <td>0.0</td>\n",
       "      <td>0.3</td>\n",
       "      <td>3.80</td>\n",
       "      <td>0.0</td>\n",
       "      <td>NaN</td>\n",
       "    </tr>\n",
       "    <tr>\n",
       "      <th>2</th>\n",
       "      <td>1</td>\n",
       "      <td>2020-03-01 00:52:18</td>\n",
       "      <td>2020-03-01 00:59:16</td>\n",
       "      <td>1.0</td>\n",
       "      <td>1.10</td>\n",
       "      <td>1.0</td>\n",
       "      <td>N</td>\n",
       "      <td>246</td>\n",
       "      <td>90</td>\n",
       "      <td>1</td>\n",
       "      <td>6.00</td>\n",
       "      <td>3.0</td>\n",
       "      <td>0.5</td>\n",
       "      <td>1.95</td>\n",
       "      <td>0.0</td>\n",
       "      <td>0.3</td>\n",
       "      <td>11.75</td>\n",
       "      <td>2.5</td>\n",
       "      <td>NaN</td>\n",
       "    </tr>\n",
       "    <tr>\n",
       "      <th>3</th>\n",
       "      <td>2</td>\n",
       "      <td>2020-03-01 00:47:53</td>\n",
       "      <td>2020-03-01 00:50:57</td>\n",
       "      <td>2.0</td>\n",
       "      <td>0.87</td>\n",
       "      <td>1.0</td>\n",
       "      <td>N</td>\n",
       "      <td>151</td>\n",
       "      <td>238</td>\n",
       "      <td>1</td>\n",
       "      <td>5.00</td>\n",
       "      <td>0.5</td>\n",
       "      <td>0.5</td>\n",
       "      <td>1.76</td>\n",
       "      <td>0.0</td>\n",
       "      <td>0.3</td>\n",
       "      <td>10.56</td>\n",
       "      <td>2.5</td>\n",
       "      <td>NaN</td>\n",
       "    </tr>\n",
       "    <tr>\n",
       "      <th>4</th>\n",
       "      <td>1</td>\n",
       "      <td>2020-03-01 00:43:19</td>\n",
       "      <td>2020-03-01 00:58:27</td>\n",
       "      <td>0.0</td>\n",
       "      <td>4.40</td>\n",
       "      <td>1.0</td>\n",
       "      <td>N</td>\n",
       "      <td>79</td>\n",
       "      <td>261</td>\n",
       "      <td>1</td>\n",
       "      <td>16.50</td>\n",
       "      <td>3.0</td>\n",
       "      <td>0.5</td>\n",
       "      <td>4.05</td>\n",
       "      <td>0.0</td>\n",
       "      <td>0.3</td>\n",
       "      <td>24.35</td>\n",
       "      <td>2.5</td>\n",
       "      <td>NaN</td>\n",
       "    </tr>\n",
       "    <tr>\n",
       "      <th>...</th>\n",
       "      <td>...</td>\n",
       "      <td>...</td>\n",
       "      <td>...</td>\n",
       "      <td>...</td>\n",
       "      <td>...</td>\n",
       "      <td>...</td>\n",
       "      <td>...</td>\n",
       "      <td>...</td>\n",
       "      <td>...</td>\n",
       "      <td>...</td>\n",
       "      <td>...</td>\n",
       "      <td>...</td>\n",
       "      <td>...</td>\n",
       "      <td>...</td>\n",
       "      <td>...</td>\n",
       "      <td>...</td>\n",
       "      <td>...</td>\n",
       "      <td>...</td>\n",
       "      <td>...</td>\n",
       "    </tr>\n",
       "    <tr>\n",
       "      <th>3007682</th>\n",
       "      <td>2</td>\n",
       "      <td>2020-03-31 23:21:00</td>\n",
       "      <td>2020-03-31 23:33:00</td>\n",
       "      <td>NaN</td>\n",
       "      <td>5.43</td>\n",
       "      <td>NaN</td>\n",
       "      <td>None</td>\n",
       "      <td>137</td>\n",
       "      <td>87</td>\n",
       "      <td>0</td>\n",
       "      <td>30.47</td>\n",
       "      <td>0.0</td>\n",
       "      <td>0.5</td>\n",
       "      <td>0.00</td>\n",
       "      <td>0.0</td>\n",
       "      <td>0.3</td>\n",
       "      <td>33.77</td>\n",
       "      <td>NaN</td>\n",
       "      <td>NaN</td>\n",
       "    </tr>\n",
       "    <tr>\n",
       "      <th>3007683</th>\n",
       "      <td>2</td>\n",
       "      <td>2020-03-31 23:57:00</td>\n",
       "      <td>2020-04-01 00:26:00</td>\n",
       "      <td>NaN</td>\n",
       "      <td>13.21</td>\n",
       "      <td>NaN</td>\n",
       "      <td>None</td>\n",
       "      <td>137</td>\n",
       "      <td>71</td>\n",
       "      <td>0</td>\n",
       "      <td>37.97</td>\n",
       "      <td>0.0</td>\n",
       "      <td>0.5</td>\n",
       "      <td>0.00</td>\n",
       "      <td>0.0</td>\n",
       "      <td>0.3</td>\n",
       "      <td>41.27</td>\n",
       "      <td>NaN</td>\n",
       "      <td>NaN</td>\n",
       "    </tr>\n",
       "    <tr>\n",
       "      <th>3007684</th>\n",
       "      <td>2</td>\n",
       "      <td>2020-03-31 23:22:01</td>\n",
       "      <td>2020-03-31 23:43:52</td>\n",
       "      <td>NaN</td>\n",
       "      <td>12.14</td>\n",
       "      <td>NaN</td>\n",
       "      <td>None</td>\n",
       "      <td>137</td>\n",
       "      <td>32</td>\n",
       "      <td>0</td>\n",
       "      <td>37.10</td>\n",
       "      <td>0.0</td>\n",
       "      <td>0.0</td>\n",
       "      <td>0.00</td>\n",
       "      <td>0.0</td>\n",
       "      <td>0.3</td>\n",
       "      <td>39.90</td>\n",
       "      <td>NaN</td>\n",
       "      <td>NaN</td>\n",
       "    </tr>\n",
       "    <tr>\n",
       "      <th>3007685</th>\n",
       "      <td>2</td>\n",
       "      <td>2020-03-31 23:18:53</td>\n",
       "      <td>2020-03-31 23:32:21</td>\n",
       "      <td>NaN</td>\n",
       "      <td>7.01</td>\n",
       "      <td>NaN</td>\n",
       "      <td>None</td>\n",
       "      <td>137</td>\n",
       "      <td>159</td>\n",
       "      <td>0</td>\n",
       "      <td>20.07</td>\n",
       "      <td>0.0</td>\n",
       "      <td>0.0</td>\n",
       "      <td>0.00</td>\n",
       "      <td>0.0</td>\n",
       "      <td>0.3</td>\n",
       "      <td>22.87</td>\n",
       "      <td>NaN</td>\n",
       "      <td>NaN</td>\n",
       "    </tr>\n",
       "    <tr>\n",
       "      <th>3007686</th>\n",
       "      <td>2</td>\n",
       "      <td>2020-03-31 23:11:00</td>\n",
       "      <td>2020-03-31 23:30:00</td>\n",
       "      <td>NaN</td>\n",
       "      <td>6.31</td>\n",
       "      <td>NaN</td>\n",
       "      <td>None</td>\n",
       "      <td>185</td>\n",
       "      <td>69</td>\n",
       "      <td>0</td>\n",
       "      <td>23.40</td>\n",
       "      <td>0.0</td>\n",
       "      <td>0.5</td>\n",
       "      <td>0.00</td>\n",
       "      <td>0.0</td>\n",
       "      <td>0.3</td>\n",
       "      <td>24.20</td>\n",
       "      <td>NaN</td>\n",
       "      <td>NaN</td>\n",
       "    </tr>\n",
       "  </tbody>\n",
       "</table>\n",
       "<p>3007687 rows × 19 columns</p>\n",
       "</div>"
      ],
      "text/plain": [
       "         VendorID tpep_pickup_datetime tpep_dropoff_datetime  passenger_count  \\\n",
       "0               1  2020-03-01 00:31:13   2020-03-01 01:01:42              1.0   \n",
       "1               2  2020-03-01 00:08:22   2020-03-01 00:08:49              1.0   \n",
       "2               1  2020-03-01 00:52:18   2020-03-01 00:59:16              1.0   \n",
       "3               2  2020-03-01 00:47:53   2020-03-01 00:50:57              2.0   \n",
       "4               1  2020-03-01 00:43:19   2020-03-01 00:58:27              0.0   \n",
       "...           ...                  ...                   ...              ...   \n",
       "3007682         2  2020-03-31 23:21:00   2020-03-31 23:33:00              NaN   \n",
       "3007683         2  2020-03-31 23:57:00   2020-04-01 00:26:00              NaN   \n",
       "3007684         2  2020-03-31 23:22:01   2020-03-31 23:43:52              NaN   \n",
       "3007685         2  2020-03-31 23:18:53   2020-03-31 23:32:21              NaN   \n",
       "3007686         2  2020-03-31 23:11:00   2020-03-31 23:30:00              NaN   \n",
       "\n",
       "         trip_distance  RatecodeID store_and_fwd_flag  PULocationID  \\\n",
       "0                 4.70         1.0                  N            88   \n",
       "1                 0.00         1.0                  N           193   \n",
       "2                 1.10         1.0                  N           246   \n",
       "3                 0.87         1.0                  N           151   \n",
       "4                 4.40         1.0                  N            79   \n",
       "...                ...         ...                ...           ...   \n",
       "3007682           5.43         NaN               None           137   \n",
       "3007683          13.21         NaN               None           137   \n",
       "3007684          12.14         NaN               None           137   \n",
       "3007685           7.01         NaN               None           137   \n",
       "3007686           6.31         NaN               None           185   \n",
       "\n",
       "         DOLocationID  payment_type  fare_amount  extra  mta_tax  tip_amount  \\\n",
       "0                 255             1        22.00    3.0      0.5        2.00   \n",
       "1                 193             2         2.50    0.5      0.5        0.00   \n",
       "2                  90             1         6.00    3.0      0.5        1.95   \n",
       "3                 238             1         5.00    0.5      0.5        1.76   \n",
       "4                 261             1        16.50    3.0      0.5        4.05   \n",
       "...               ...           ...          ...    ...      ...         ...   \n",
       "3007682            87             0        30.47    0.0      0.5        0.00   \n",
       "3007683            71             0        37.97    0.0      0.5        0.00   \n",
       "3007684            32             0        37.10    0.0      0.0        0.00   \n",
       "3007685           159             0        20.07    0.0      0.0        0.00   \n",
       "3007686            69             0        23.40    0.0      0.5        0.00   \n",
       "\n",
       "         tolls_amount  improvement_surcharge  total_amount  \\\n",
       "0                 0.0                    0.3         27.80   \n",
       "1                 0.0                    0.3          3.80   \n",
       "2                 0.0                    0.3         11.75   \n",
       "3                 0.0                    0.3         10.56   \n",
       "4                 0.0                    0.3         24.35   \n",
       "...               ...                    ...           ...   \n",
       "3007682           0.0                    0.3         33.77   \n",
       "3007683           0.0                    0.3         41.27   \n",
       "3007684           0.0                    0.3         39.90   \n",
       "3007685           0.0                    0.3         22.87   \n",
       "3007686           0.0                    0.3         24.20   \n",
       "\n",
       "         congestion_surcharge  airport_fee  \n",
       "0                         2.5          NaN  \n",
       "1                         0.0          NaN  \n",
       "2                         2.5          NaN  \n",
       "3                         2.5          NaN  \n",
       "4                         2.5          NaN  \n",
       "...                       ...          ...  \n",
       "3007682                   NaN          NaN  \n",
       "3007683                   NaN          NaN  \n",
       "3007684                   NaN          NaN  \n",
       "3007685                   NaN          NaN  \n",
       "3007686                   NaN          NaN  \n",
       "\n",
       "[3007687 rows x 19 columns]"
      ]
     },
     "execution_count": 4,
     "metadata": {},
     "output_type": "execute_result"
    }
   ],
   "source": [
    "# check data on March\n",
    "mar2020"
   ]
  },
  {
   "cell_type": "code",
   "execution_count": 6,
   "id": "dcb7f52f",
   "metadata": {},
   "outputs": [],
   "source": [
    "# keep date and remove time of pickup\n",
    "mar2020['date']=mar2020['tpep_pickup_datetime'].apply(lambda i: str(i).split(' ')[0])\n",
    "mar2020['date']=pd.to_datetime(mar2020['date'])\n",
    "jan2020['date']=jan2020['tpep_pickup_datetime'].apply(lambda i: str(i).split(' ')[0])\n",
    "jan2020['date']=pd.to_datetime(jan2020['date'])"
   ]
  },
  {
   "cell_type": "code",
   "execution_count": 7,
   "id": "a5da25e9",
   "metadata": {},
   "outputs": [
    {
     "data": {
      "text/plain": [
       "2020-03-05    244448\n",
       "2020-03-06    243741\n",
       "2020-03-04    229734\n",
       "2020-03-03    222917\n",
       "2020-03-07    208190\n",
       "2020-03-02    193514\n",
       "2020-03-10    184110\n",
       "2020-03-11    182663\n",
       "2020-03-01    179760\n",
       "2020-03-09    175594\n",
       "2020-03-12    171096\n",
       "2020-03-08    165787\n",
       "2020-03-13    134723\n",
       "2020-03-14     89672\n",
       "2020-03-16     64226\n",
       "2020-03-15     59894\n",
       "2020-03-17     45639\n",
       "2020-03-18     36266\n",
       "2020-03-19     29813\n",
       "2020-03-20     27644\n",
       "2020-03-21     16177\n",
       "2020-03-23     13580\n",
       "2020-03-24     11858\n",
       "2020-03-27     11785\n",
       "2020-03-25     11211\n",
       "2020-03-26     10669\n",
       "2020-03-22     10341\n",
       "2020-03-30      9586\n",
       "2020-03-31      9447\n",
       "2020-03-28      7635\n",
       "2020-03-29      5541\n",
       "2020-02-29       271\n",
       "2020-01-30        21\n",
       "2020-02-01        19\n",
       "2020-01-28        18\n",
       "2020-01-31        15\n",
       "2020-02-02        13\n",
       "2009-01-01        12\n",
       "2020-01-29        10\n",
       "2020-01-27         5\n",
       "2008-12-31         5\n",
       "2020-04-21         5\n",
       "2020-04-25         4\n",
       "2020-06-07         4\n",
       "2020-06-03         4\n",
       "2020-06-24         3\n",
       "2020-04-04         3\n",
       "2020-06-28         2\n",
       "2020-08-06         2\n",
       "2020-05-12         2\n",
       "2020-06-14         2\n",
       "2020-05-24         2\n",
       "2020-07-15         1\n",
       "2020-08-27         1\n",
       "2020-05-16         1\n",
       "2020-07-19         1\n",
       "Name: date, dtype: int64"
      ]
     },
     "execution_count": 7,
     "metadata": {},
     "output_type": "execute_result"
    }
   ],
   "source": [
    "# check data volume for eveyday on March 2020\n",
    "mar2020.date.value_counts()"
   ]
  },
  {
   "cell_type": "code",
   "execution_count": 8,
   "id": "59cd961b",
   "metadata": {},
   "outputs": [],
   "source": [
    "# only keep data between 3-10 to 3-31\n",
    "mar2020 = mar2020[mar2020['date']  >='2020-03-01']\n",
    "mar2020 = mar2020[mar2020['date']  <='2020-03-31']\n",
    "jan2020 = jan2020[jan2020['date']  >='2020-01-01']\n",
    "jan2020 = jan2020[jan2020['date']  <='2020-01-31']"
   ]
  },
  {
   "cell_type": "code",
   "execution_count": 10,
   "id": "c257d90b",
   "metadata": {},
   "outputs": [
    {
     "data": {
      "text/plain": [
       "2020-01-17    243682\n",
       "2020-01-30    242994\n",
       "2020-01-16    239657\n",
       "2020-01-31    236085\n",
       "2020-01-24    233291\n",
       "2020-01-23    232096\n",
       "2020-01-09    231684\n",
       "2020-01-10    228201\n",
       "2020-01-29    227420\n",
       "2020-01-25    223220\n",
       "2020-01-22    221897\n",
       "2020-01-14    217722\n",
       "2020-01-11    217503\n",
       "2020-01-15    217496\n",
       "2020-01-08    217100\n",
       "2020-01-28    215813\n",
       "2020-01-21    213823\n",
       "2020-01-13    209210\n",
       "2020-01-07    201520\n",
       "2020-01-18    190158\n",
       "2020-01-27    189786\n",
       "2020-01-26    188185\n",
       "2020-01-12    186745\n",
       "2020-01-03    183477\n",
       "2020-01-04    182752\n",
       "2020-01-06    179515\n",
       "2020-01-19    175831\n",
       "2020-01-01    169437\n",
       "2020-01-05    164399\n",
       "2020-01-02    162141\n",
       "2020-01-20    161956\n",
       "Name: date, dtype: int64"
      ]
     },
     "execution_count": 10,
     "metadata": {},
     "output_type": "execute_result"
    }
   ],
   "source": [
    "# check again to make sure\n",
    "jan2020.date.value_counts()"
   ]
  },
  {
   "cell_type": "code",
   "execution_count": 11,
   "id": "f9d19300",
   "metadata": {},
   "outputs": [
    {
     "data": {
      "text/plain": [
       "2020-03-05    244448\n",
       "2020-03-06    243741\n",
       "2020-03-04    229734\n",
       "2020-03-03    222917\n",
       "2020-03-07    208190\n",
       "2020-03-02    193514\n",
       "2020-03-10    184110\n",
       "2020-03-11    182663\n",
       "2020-03-01    179760\n",
       "2020-03-09    175594\n",
       "2020-03-12    171096\n",
       "2020-03-08    165787\n",
       "2020-03-13    134723\n",
       "2020-03-14     89672\n",
       "2020-03-16     64226\n",
       "2020-03-15     59894\n",
       "2020-03-17     45639\n",
       "2020-03-18     36266\n",
       "2020-03-19     29813\n",
       "2020-03-20     27644\n",
       "2020-03-21     16177\n",
       "2020-03-23     13580\n",
       "2020-03-24     11858\n",
       "2020-03-27     11785\n",
       "2020-03-25     11211\n",
       "2020-03-26     10669\n",
       "2020-03-22     10341\n",
       "2020-03-30      9586\n",
       "2020-03-31      9447\n",
       "2020-03-28      7635\n",
       "2020-03-29      5541\n",
       "Name: date, dtype: int64"
      ]
     },
     "execution_count": 11,
     "metadata": {},
     "output_type": "execute_result"
    }
   ],
   "source": [
    "mar2020.date.value_counts()"
   ]
  },
  {
   "cell_type": "markdown",
   "id": "0de128b4",
   "metadata": {},
   "source": [
    "## Look for missing, null, NaN records."
   ]
  },
  {
   "cell_type": "code",
   "execution_count": 12,
   "id": "cc92ffa3",
   "metadata": {},
   "outputs": [
    {
     "data": {
      "text/plain": [
       "VendorID                       0\n",
       "tpep_pickup_datetime           0\n",
       "tpep_dropoff_datetime          0\n",
       "passenger_count            37808\n",
       "trip_distance                  0\n",
       "RatecodeID                 37808\n",
       "store_and_fwd_flag         37808\n",
       "PULocationID                   0\n",
       "DOLocationID                   0\n",
       "payment_type                   0\n",
       "fare_amount                    0\n",
       "extra                          0\n",
       "mta_tax                        0\n",
       "tip_amount                     0\n",
       "tolls_amount                   0\n",
       "improvement_surcharge          0\n",
       "total_amount                   0\n",
       "congestion_surcharge       37808\n",
       "airport_fee              3007261\n",
       "date                           0\n",
       "dtype: int64"
      ]
     },
     "execution_count": 12,
     "metadata": {},
     "output_type": "execute_result"
    }
   ],
   "source": [
    "mar2020.isnull().sum()"
   ]
  },
  {
   "cell_type": "code",
   "execution_count": 13,
   "id": "55eaf4bd",
   "metadata": {},
   "outputs": [],
   "source": [
    "# remove airpost_fee due to too much empty data of airport_fee because this is a new column from 05/13/2022\n",
    "mar2020 = mar2020.drop('airport_fee', axis=1)\n",
    "jan2020 = jan2020.drop('airport_fee', axis=1)"
   ]
  },
  {
   "cell_type": "code",
   "execution_count": 14,
   "id": "ee0e9923",
   "metadata": {},
   "outputs": [],
   "source": [
    "# In order to improve ride time predictions, add column: ride_time\n",
    "mar2020['ride_time']=(mar2020['tpep_dropoff_datetime'] - mar2020['tpep_pickup_datetime']).dt.seconds/60\n",
    "jan2020['ride_time']=(jan2020['tpep_dropoff_datetime'] - jan2020['tpep_pickup_datetime']).dt.seconds/60"
   ]
  },
  {
   "cell_type": "markdown",
   "id": "32597e66",
   "metadata": {},
   "source": [
    "## List all types of data, numeric, categorical,..."
   ]
  },
  {
   "cell_type": "code",
   "execution_count": 16,
   "id": "f728c323",
   "metadata": {},
   "outputs": [
    {
     "name": "stdout",
     "output_type": "stream",
     "text": [
      "<class 'pandas.core.frame.DataFrame'>\n",
      "Int64Index: 3007261 entries, 0 to 3007686\n",
      "Data columns (total 20 columns):\n",
      " #   Column                 Dtype         \n",
      "---  ------                 -----         \n",
      " 0   VendorID               int64         \n",
      " 1   tpep_pickup_datetime   datetime64[ns]\n",
      " 2   tpep_dropoff_datetime  datetime64[ns]\n",
      " 3   passenger_count        float64       \n",
      " 4   trip_distance          float64       \n",
      " 5   RatecodeID             float64       \n",
      " 6   store_and_fwd_flag     object        \n",
      " 7   PULocationID           int64         \n",
      " 8   DOLocationID           int64         \n",
      " 9   payment_type           int64         \n",
      " 10  fare_amount            float64       \n",
      " 11  extra                  float64       \n",
      " 12  mta_tax                float64       \n",
      " 13  tip_amount             float64       \n",
      " 14  tolls_amount           float64       \n",
      " 15  improvement_surcharge  float64       \n",
      " 16  total_amount           float64       \n",
      " 17  congestion_surcharge   float64       \n",
      " 18  date                   datetime64[ns]\n",
      " 19  ride_time              float64       \n",
      "dtypes: datetime64[ns](3), float64(12), int64(4), object(1)\n",
      "memory usage: 481.8+ MB\n"
     ]
    }
   ],
   "source": [
    "mar2020.info()"
   ]
  },
  {
   "cell_type": "markdown",
   "id": "68719310",
   "metadata": {},
   "source": [
    "## Transform data – all entries should be numeric."
   ]
  },
  {
   "cell_type": "code",
   "execution_count": 17,
   "id": "283683bd",
   "metadata": {},
   "outputs": [
    {
     "data": {
      "text/plain": [
       "N    2941472\n",
       "Y      27981\n",
       "Name: store_and_fwd_flag, dtype: int64"
      ]
     },
     "execution_count": 17,
     "metadata": {},
     "output_type": "execute_result"
    }
   ],
   "source": [
    "# from above, the dataType of store_and_forward_flag is object\n",
    "mar2020.store_and_fwd_flag.value_counts()"
   ]
  },
  {
   "cell_type": "code",
   "execution_count": 18,
   "id": "cb030dc8",
   "metadata": {},
   "outputs": [],
   "source": [
    "# transform non-numeric data to numeric data\n",
    "mar2020 = mar2020.replace({'N':0, 'Y':1})"
   ]
  },
  {
   "cell_type": "code",
   "execution_count": 19,
   "id": "14d77004",
   "metadata": {},
   "outputs": [
    {
     "data": {
      "text/plain": [
       "0.0    2941472\n",
       "1.0      27981\n",
       "Name: store_and_fwd_flag, dtype: int64"
      ]
     },
     "execution_count": 19,
     "metadata": {},
     "output_type": "execute_result"
    }
   ],
   "source": [
    "# after transform, check again\n",
    "mar2020.store_and_fwd_flag.value_counts()"
   ]
  },
  {
   "cell_type": "code",
   "execution_count": 20,
   "id": "bb1486fe",
   "metadata": {},
   "outputs": [
    {
     "data": {
      "text/plain": [
       "VendorID                       4\n",
       "tpep_pickup_datetime     1226056\n",
       "tpep_dropoff_datetime    1226549\n",
       "passenger_count               10\n",
       "trip_distance               3963\n",
       "RatecodeID                     7\n",
       "store_and_fwd_flag             2\n",
       "PULocationID                 260\n",
       "DOLocationID                 261\n",
       "payment_type                   5\n",
       "fare_amount                 6402\n",
       "extra                        302\n",
       "mta_tax                        7\n",
       "tip_amount                  3042\n",
       "tolls_amount                 664\n",
       "improvement_surcharge          3\n",
       "total_amount               10882\n",
       "congestion_surcharge           6\n",
       "date                          31\n",
       "ride_time                   9826\n",
       "dtype: int64"
      ]
     },
     "execution_count": 20,
     "metadata": {},
     "output_type": "execute_result"
    }
   ],
   "source": [
    "# Count number of distinct elements in specified axis. Return Series with number of distinct elements. Can ignore NaN values.\n",
    "mar2020.nunique()"
   ]
  },
  {
   "cell_type": "markdown",
   "id": "9077ae5e",
   "metadata": {},
   "source": [
    "## Remove abnormal data according to Data Dictionary"
   ]
  },
  {
   "cell_type": "markdown",
   "id": "8f256734",
   "metadata": {},
   "source": [
    "### Vendor ID"
   ]
  },
  {
   "cell_type": "code",
   "execution_count": 21,
   "id": "ed0642ec",
   "metadata": {},
   "outputs": [
    {
     "data": {
      "text/plain": [
       "2    2018292\n",
       "1     988484\n",
       "6        476\n",
       "5          9\n",
       "Name: VendorID, dtype: int64"
      ]
     },
     "execution_count": 21,
     "metadata": {},
     "output_type": "execute_result"
    }
   ],
   "source": [
    "# check VendorID: 1= Creative Mobile Technologies, LLC; 2= VeriFone Inc.\n",
    "mar2020.VendorID.value_counts()"
   ]
  },
  {
   "cell_type": "code",
   "execution_count": 22,
   "id": "8e027073",
   "metadata": {},
   "outputs": [],
   "source": [
    "# drop VendorID >2\n",
    "mar2020 = mar2020.drop(mar2020[(mar2020.VendorID >2)].index)\n",
    "jan2020 = jan2020.drop(jan2020[(jan2020.VendorID >2)].index)"
   ]
  },
  {
   "cell_type": "markdown",
   "id": "01f9e340",
   "metadata": {},
   "source": [
    "### Passenger_count"
   ]
  },
  {
   "cell_type": "code",
   "execution_count": 23,
   "id": "cf9d2bc2",
   "metadata": {},
   "outputs": [
    {
     "data": {
      "text/plain": [
       "1.0    2187111\n",
       "2.0     407457\n",
       "3.0     106495\n",
       "5.0      96958\n",
       "0.0      63431\n",
       "6.0      59555\n",
       "4.0      48422\n",
       "7.0         10\n",
       "9.0          9\n",
       "8.0          5\n",
       "Name: passenger_count, dtype: int64"
      ]
     },
     "execution_count": 23,
     "metadata": {},
     "output_type": "execute_result"
    }
   ],
   "source": [
    "# check how many passenger per trip\n",
    "mar2020.passenger_count.value_counts()"
   ]
  },
  {
   "cell_type": "code",
   "execution_count": 24,
   "id": "471f0912",
   "metadata": {},
   "outputs": [],
   "source": [
    "# drop \n",
    "mar2020 = mar2020.drop(mar2020[(mar2020.passenger_count<=0) | (mar2020.passenger_count>=7)].index)\n",
    "jan2020 = jan2020.drop(jan2020[(jan2020.passenger_count<=0) | (jan2020.passenger_count>=7)].index)"
   ]
  },
  {
   "cell_type": "markdown",
   "id": "4272d1ca",
   "metadata": {},
   "source": [
    "### trip distance"
   ]
  },
  {
   "cell_type": "code",
   "execution_count": 25,
   "id": "c2f1d4e9",
   "metadata": {},
   "outputs": [
    {
     "data": {
      "text/plain": [
       "0.80     50016\n",
       "0.90     49955\n",
       "1.00     49286\n",
       "0.70     47376\n",
       "1.10     47130\n",
       "         ...  \n",
       "34.97        1\n",
       "34.68        1\n",
       "38.48        1\n",
       "52.59        1\n",
       "35.36        1\n",
       "Name: trip_distance, Length: 3954, dtype: int64"
      ]
     },
     "execution_count": 25,
     "metadata": {},
     "output_type": "execute_result"
    }
   ],
   "source": [
    "# check trip distance per trip to make sure all distance above 0\n",
    "mar2020.trip_distance.value_counts()"
   ]
  },
  {
   "cell_type": "code",
   "execution_count": 26,
   "id": "dd6404b3",
   "metadata": {},
   "outputs": [],
   "source": [
    "mar2020 = mar2020.drop(mar2020[(mar2020.trip_distance<=0)| (mar2020.trip_distance>25)].index)\n",
    "jan2020 = jan2020.drop(jan2020[(jan2020.trip_distance<=0)| (jan2020.trip_distance>25)].index)"
   ]
  },
  {
   "cell_type": "markdown",
   "id": "8aecacf3",
   "metadata": {},
   "source": [
    "### rateCodeID"
   ]
  },
  {
   "cell_type": "code",
   "execution_count": 27,
   "id": "4a8620a2",
   "metadata": {},
   "outputs": [
    {
     "data": {
      "text/plain": [
       "1.0     2803855\n",
       "2.0       54517\n",
       "5.0        6533\n",
       "3.0        5168\n",
       "4.0        1551\n",
       "99.0         61\n",
       "6.0           4\n",
       "Name: RatecodeID, dtype: int64"
      ]
     },
     "execution_count": 27,
     "metadata": {},
     "output_type": "execute_result"
    }
   ],
   "source": [
    "# check rateCodeID 1= Standard rate 2=JFK 3=Newark 4=Nassau or Westchester 5=Negotiated fare 6=Group ride\n",
    "mar2020.RatecodeID.value_counts()"
   ]
  },
  {
   "cell_type": "code",
   "execution_count": 28,
   "id": "bddb5a2d",
   "metadata": {},
   "outputs": [],
   "source": [
    "mar2020 = mar2020.drop(mar2020[(mar2020.RatecodeID==99)].index)\n",
    "jan2020 = jan2020.drop(jan2020[(jan2020.RatecodeID==99)].index)"
   ]
  },
  {
   "cell_type": "markdown",
   "id": "3118fc1e",
   "metadata": {},
   "source": [
    "### Payment type"
   ]
  },
  {
   "cell_type": "code",
   "execution_count": 29,
   "id": "85a38187",
   "metadata": {},
   "outputs": [
    {
     "data": {
      "text/plain": [
       "1    2141889\n",
       "2     707782\n",
       "0      36926\n",
       "3      13535\n",
       "4       8422\n",
       "Name: payment_type, dtype: int64"
      ]
     },
     "execution_count": 29,
     "metadata": {},
     "output_type": "execute_result"
    }
   ],
   "source": [
    "# check payment type 1= Credit card 2= Cash 3= No charge 4= Dispute 5= Unknown 6= Voided trip\n",
    "mar2020.payment_type.value_counts()"
   ]
  },
  {
   "cell_type": "code",
   "execution_count": 30,
   "id": "2cfdeba3",
   "metadata": {},
   "outputs": [],
   "source": [
    "# drop payment type = 0 \n",
    "mar2020 = mar2020.drop(mar2020[(mar2020.payment_type ==0)].index)\n",
    "jan2020 = jan2020.drop(jan2020[(jan2020.payment_type ==0)].index)"
   ]
  },
  {
   "cell_type": "code",
   "execution_count": 31,
   "id": "af5fb457",
   "metadata": {},
   "outputs": [
    {
     "data": {
      "text/html": [
       "<div>\n",
       "<style scoped>\n",
       "    .dataframe tbody tr th:only-of-type {\n",
       "        vertical-align: middle;\n",
       "    }\n",
       "\n",
       "    .dataframe tbody tr th {\n",
       "        vertical-align: top;\n",
       "    }\n",
       "\n",
       "    .dataframe thead th {\n",
       "        text-align: right;\n",
       "    }\n",
       "</style>\n",
       "<table border=\"1\" class=\"dataframe\">\n",
       "  <thead>\n",
       "    <tr style=\"text-align: right;\">\n",
       "      <th></th>\n",
       "      <th>count</th>\n",
       "      <th>mean</th>\n",
       "      <th>std</th>\n",
       "      <th>min</th>\n",
       "      <th>25%</th>\n",
       "      <th>50%</th>\n",
       "      <th>75%</th>\n",
       "      <th>max</th>\n",
       "    </tr>\n",
       "  </thead>\n",
       "  <tbody>\n",
       "    <tr>\n",
       "      <th>VendorID</th>\n",
       "      <td>2871628.0</td>\n",
       "      <td>1.683858</td>\n",
       "      <td>0.464969</td>\n",
       "      <td>1.00</td>\n",
       "      <td>1.000000</td>\n",
       "      <td>2.00</td>\n",
       "      <td>2.000000</td>\n",
       "      <td>2.000000</td>\n",
       "    </tr>\n",
       "    <tr>\n",
       "      <th>passenger_count</th>\n",
       "      <td>2871628.0</td>\n",
       "      <td>1.501936</td>\n",
       "      <td>1.113510</td>\n",
       "      <td>1.00</td>\n",
       "      <td>1.000000</td>\n",
       "      <td>1.00</td>\n",
       "      <td>1.000000</td>\n",
       "      <td>6.000000</td>\n",
       "    </tr>\n",
       "    <tr>\n",
       "      <th>trip_distance</th>\n",
       "      <td>2871628.0</td>\n",
       "      <td>2.814331</td>\n",
       "      <td>3.419358</td>\n",
       "      <td>0.01</td>\n",
       "      <td>1.000000</td>\n",
       "      <td>1.67</td>\n",
       "      <td>3.000000</td>\n",
       "      <td>25.000000</td>\n",
       "    </tr>\n",
       "    <tr>\n",
       "      <th>RatecodeID</th>\n",
       "      <td>2871628.0</td>\n",
       "      <td>1.033311</td>\n",
       "      <td>0.257623</td>\n",
       "      <td>1.00</td>\n",
       "      <td>1.000000</td>\n",
       "      <td>1.00</td>\n",
       "      <td>1.000000</td>\n",
       "      <td>6.000000</td>\n",
       "    </tr>\n",
       "    <tr>\n",
       "      <th>store_and_fwd_flag</th>\n",
       "      <td>2871628.0</td>\n",
       "      <td>0.008571</td>\n",
       "      <td>0.092181</td>\n",
       "      <td>0.00</td>\n",
       "      <td>0.000000</td>\n",
       "      <td>0.00</td>\n",
       "      <td>0.000000</td>\n",
       "      <td>1.000000</td>\n",
       "    </tr>\n",
       "    <tr>\n",
       "      <th>PULocationID</th>\n",
       "      <td>2871628.0</td>\n",
       "      <td>163.873074</td>\n",
       "      <td>66.337750</td>\n",
       "      <td>1.00</td>\n",
       "      <td>116.000000</td>\n",
       "      <td>162.00</td>\n",
       "      <td>234.000000</td>\n",
       "      <td>265.000000</td>\n",
       "    </tr>\n",
       "    <tr>\n",
       "      <th>DOLocationID</th>\n",
       "      <td>2871628.0</td>\n",
       "      <td>161.258106</td>\n",
       "      <td>70.465641</td>\n",
       "      <td>1.00</td>\n",
       "      <td>107.000000</td>\n",
       "      <td>162.00</td>\n",
       "      <td>234.000000</td>\n",
       "      <td>265.000000</td>\n",
       "    </tr>\n",
       "    <tr>\n",
       "      <th>payment_type</th>\n",
       "      <td>2871628.0</td>\n",
       "      <td>1.264699</td>\n",
       "      <td>0.470805</td>\n",
       "      <td>1.00</td>\n",
       "      <td>1.000000</td>\n",
       "      <td>1.00</td>\n",
       "      <td>2.000000</td>\n",
       "      <td>4.000000</td>\n",
       "    </tr>\n",
       "    <tr>\n",
       "      <th>fare_amount</th>\n",
       "      <td>2871628.0</td>\n",
       "      <td>12.307456</td>\n",
       "      <td>396.151491</td>\n",
       "      <td>-1259.00</td>\n",
       "      <td>6.500000</td>\n",
       "      <td>9.00</td>\n",
       "      <td>13.500000</td>\n",
       "      <td>671100.140000</td>\n",
       "    </tr>\n",
       "    <tr>\n",
       "      <th>extra</th>\n",
       "      <td>2871628.0</td>\n",
       "      <td>1.066705</td>\n",
       "      <td>1.231929</td>\n",
       "      <td>-4.50</td>\n",
       "      <td>0.000000</td>\n",
       "      <td>0.50</td>\n",
       "      <td>2.500000</td>\n",
       "      <td>30.300000</td>\n",
       "    </tr>\n",
       "    <tr>\n",
       "      <th>mta_tax</th>\n",
       "      <td>2871628.0</td>\n",
       "      <td>0.494861</td>\n",
       "      <td>0.065299</td>\n",
       "      <td>-0.50</td>\n",
       "      <td>0.500000</td>\n",
       "      <td>0.50</td>\n",
       "      <td>0.500000</td>\n",
       "      <td>3.300000</td>\n",
       "    </tr>\n",
       "    <tr>\n",
       "      <th>tip_amount</th>\n",
       "      <td>2871628.0</td>\n",
       "      <td>2.148517</td>\n",
       "      <td>2.546732</td>\n",
       "      <td>-493.22</td>\n",
       "      <td>0.000000</td>\n",
       "      <td>1.96</td>\n",
       "      <td>2.860000</td>\n",
       "      <td>493.220000</td>\n",
       "    </tr>\n",
       "    <tr>\n",
       "      <th>tolls_amount</th>\n",
       "      <td>2871628.0</td>\n",
       "      <td>0.276884</td>\n",
       "      <td>1.521706</td>\n",
       "      <td>-40.00</td>\n",
       "      <td>0.000000</td>\n",
       "      <td>0.00</td>\n",
       "      <td>0.000000</td>\n",
       "      <td>601.020000</td>\n",
       "    </tr>\n",
       "    <tr>\n",
       "      <th>improvement_surcharge</th>\n",
       "      <td>2871628.0</td>\n",
       "      <td>0.297826</td>\n",
       "      <td>0.035574</td>\n",
       "      <td>-0.30</td>\n",
       "      <td>0.300000</td>\n",
       "      <td>0.30</td>\n",
       "      <td>0.300000</td>\n",
       "      <td>0.300000</td>\n",
       "    </tr>\n",
       "    <tr>\n",
       "      <th>total_amount</th>\n",
       "      <td>2871628.0</td>\n",
       "      <td>18.152357</td>\n",
       "      <td>396.221167</td>\n",
       "      <td>-1260.30</td>\n",
       "      <td>11.160000</td>\n",
       "      <td>14.30</td>\n",
       "      <td>19.560000</td>\n",
       "      <td>671103.170000</td>\n",
       "    </tr>\n",
       "    <tr>\n",
       "      <th>congestion_surcharge</th>\n",
       "      <td>2871628.0</td>\n",
       "      <td>2.287404</td>\n",
       "      <td>0.721939</td>\n",
       "      <td>-2.50</td>\n",
       "      <td>2.500000</td>\n",
       "      <td>2.50</td>\n",
       "      <td>2.500000</td>\n",
       "      <td>2.500000</td>\n",
       "    </tr>\n",
       "    <tr>\n",
       "      <th>ride_time</th>\n",
       "      <td>2871628.0</td>\n",
       "      <td>15.501303</td>\n",
       "      <td>60.468471</td>\n",
       "      <td>0.00</td>\n",
       "      <td>6.283333</td>\n",
       "      <td>10.35</td>\n",
       "      <td>16.583333</td>\n",
       "      <td>1439.933333</td>\n",
       "    </tr>\n",
       "  </tbody>\n",
       "</table>\n",
       "</div>"
      ],
      "text/plain": [
       "                           count        mean         std      min         25%  \\\n",
       "VendorID               2871628.0    1.683858    0.464969     1.00    1.000000   \n",
       "passenger_count        2871628.0    1.501936    1.113510     1.00    1.000000   \n",
       "trip_distance          2871628.0    2.814331    3.419358     0.01    1.000000   \n",
       "RatecodeID             2871628.0    1.033311    0.257623     1.00    1.000000   \n",
       "store_and_fwd_flag     2871628.0    0.008571    0.092181     0.00    0.000000   \n",
       "PULocationID           2871628.0  163.873074   66.337750     1.00  116.000000   \n",
       "DOLocationID           2871628.0  161.258106   70.465641     1.00  107.000000   \n",
       "payment_type           2871628.0    1.264699    0.470805     1.00    1.000000   \n",
       "fare_amount            2871628.0   12.307456  396.151491 -1259.00    6.500000   \n",
       "extra                  2871628.0    1.066705    1.231929    -4.50    0.000000   \n",
       "mta_tax                2871628.0    0.494861    0.065299    -0.50    0.500000   \n",
       "tip_amount             2871628.0    2.148517    2.546732  -493.22    0.000000   \n",
       "tolls_amount           2871628.0    0.276884    1.521706   -40.00    0.000000   \n",
       "improvement_surcharge  2871628.0    0.297826    0.035574    -0.30    0.300000   \n",
       "total_amount           2871628.0   18.152357  396.221167 -1260.30   11.160000   \n",
       "congestion_surcharge   2871628.0    2.287404    0.721939    -2.50    2.500000   \n",
       "ride_time              2871628.0   15.501303   60.468471     0.00    6.283333   \n",
       "\n",
       "                          50%         75%            max  \n",
       "VendorID                 2.00    2.000000       2.000000  \n",
       "passenger_count          1.00    1.000000       6.000000  \n",
       "trip_distance            1.67    3.000000      25.000000  \n",
       "RatecodeID               1.00    1.000000       6.000000  \n",
       "store_and_fwd_flag       0.00    0.000000       1.000000  \n",
       "PULocationID           162.00  234.000000     265.000000  \n",
       "DOLocationID           162.00  234.000000     265.000000  \n",
       "payment_type             1.00    2.000000       4.000000  \n",
       "fare_amount              9.00   13.500000  671100.140000  \n",
       "extra                    0.50    2.500000      30.300000  \n",
       "mta_tax                  0.50    0.500000       3.300000  \n",
       "tip_amount               1.96    2.860000     493.220000  \n",
       "tolls_amount             0.00    0.000000     601.020000  \n",
       "improvement_surcharge    0.30    0.300000       0.300000  \n",
       "total_amount            14.30   19.560000  671103.170000  \n",
       "congestion_surcharge     2.50    2.500000       2.500000  \n",
       "ride_time               10.35   16.583333    1439.933333  "
      ]
     },
     "execution_count": 31,
     "metadata": {},
     "output_type": "execute_result"
    }
   ],
   "source": [
    "# after removing the abnormal data\n",
    "mar2020.describe().T"
   ]
  },
  {
   "cell_type": "markdown",
   "id": "c112e378",
   "metadata": {},
   "source": [
    "### fare_amount"
   ]
  },
  {
   "cell_type": "code",
   "execution_count": 32,
   "id": "8bdaac49",
   "metadata": {},
   "outputs": [
    {
     "name": "stdout",
     "output_type": "stream",
     "text": [
      "732292     671100.14\n",
      "2848144      1259.00\n",
      "2291480       632.50\n",
      "2721100       475.50\n",
      "2599350       460.00\n",
      "             ...    \n",
      "2028327       124.00\n",
      "2629969       124.00\n",
      "2764368       124.00\n",
      "1611128       123.50\n",
      "1489553       123.00\n",
      "Name: fare_amount, Length: 200, dtype: float64\n"
     ]
    }
   ],
   "source": [
    "# fare_amount looks abnormal\n",
    "print(mar2020['fare_amount'].nlargest(200))"
   ]
  },
  {
   "cell_type": "code",
   "execution_count": 33,
   "id": "2deaa7a1",
   "metadata": {},
   "outputs": [],
   "source": [
    "mar2020 = mar2020.drop(mar2020[(mar2020.fare_amount<0) | (mar2020.fare_amount>20)].index)\n",
    "jan2020 = jan2020.drop(jan2020[(jan2020.fare_amount<0) | (jan2020.fare_amount>20)].index)"
   ]
  },
  {
   "cell_type": "markdown",
   "id": "daabdaa0",
   "metadata": {},
   "source": [
    "### extra"
   ]
  },
  {
   "cell_type": "code",
   "execution_count": 34,
   "id": "4d209cde",
   "metadata": {},
   "outputs": [
    {
     "name": "stdout",
     "output_type": "stream",
     "text": [
      "1454582    18.50\n",
      "2425260     4.14\n",
      "1949559     3.95\n",
      "823         3.50\n",
      "42930       3.50\n",
      "           ...  \n",
      "132496      3.50\n",
      "132497      3.50\n",
      "132498      3.50\n",
      "132517      3.50\n",
      "132518      3.50\n",
      "Name: extra, Length: 200, dtype: float64\n"
     ]
    }
   ],
   "source": [
    "# fare_amount looks abnormal\n",
    "print(mar2020['extra'].nlargest(200))"
   ]
  },
  {
   "cell_type": "code",
   "execution_count": 35,
   "id": "758d589f",
   "metadata": {},
   "outputs": [],
   "source": [
    "mar2020 = mar2020.drop(mar2020[(mar2020.extra<0) | (mar2020.extra>3.5)].index)\n",
    "jan2020 = jan2020.drop(jan2020[(jan2020.extra<0) | (jan2020.extra>3.5)].index)"
   ]
  },
  {
   "cell_type": "markdown",
   "id": "d0850a4d",
   "metadata": {},
   "source": [
    "### tip_amount"
   ]
  },
  {
   "cell_type": "code",
   "execution_count": 36,
   "id": "2658f30f",
   "metadata": {},
   "outputs": [
    {
     "name": "stdout",
     "output_type": "stream",
     "text": [
      "563163     493.22\n",
      "535580     445.50\n",
      "2826837    383.00\n",
      "2478586    370.00\n",
      "985590     300.30\n",
      "            ...  \n",
      "1885502     32.62\n",
      "552637      32.60\n",
      "2201969     32.53\n",
      "2425202     32.35\n",
      "1134363     32.00\n",
      "Name: tip_amount, Length: 200, dtype: float64\n"
     ]
    }
   ],
   "source": [
    "# fare_amount looks abnormal\n",
    "print(mar2020['tip_amount'].nlargest(200))"
   ]
  },
  {
   "cell_type": "code",
   "execution_count": 37,
   "id": "4054aa25",
   "metadata": {},
   "outputs": [],
   "source": [
    "mar2020 = mar2020.drop(mar2020[(mar2020.tip_amount<0)|(mar2020.tip_amount>10)].index)\n",
    "jan2020 = jan2020.drop(jan2020[(jan2020.tip_amount<0)|(jan2020.tip_amount>10)].index)"
   ]
  },
  {
   "cell_type": "markdown",
   "id": "2a1ac816",
   "metadata": {},
   "source": [
    "### tolls_amount"
   ]
  },
  {
   "cell_type": "code",
   "execution_count": 38,
   "id": "c6bab83f",
   "metadata": {},
   "outputs": [
    {
     "name": "stdout",
     "output_type": "stream",
     "text": [
      "2957847    91.00\n",
      "206584     75.12\n",
      "1153810    72.00\n",
      "1423106    65.00\n",
      "804322     61.42\n",
      "           ...  \n",
      "2563890     6.75\n",
      "544382      6.73\n",
      "625469      6.62\n",
      "777481      6.62\n",
      "1749730     6.21\n",
      "Name: tolls_amount, Length: 200, dtype: float64\n"
     ]
    }
   ],
   "source": [
    "# fare_amount looks abnormal\n",
    "print(mar2020['tolls_amount'].nlargest(200))"
   ]
  },
  {
   "cell_type": "code",
   "execution_count": 39,
   "id": "8edb4f31",
   "metadata": {},
   "outputs": [],
   "source": [
    "mar2020 = mar2020.drop(mar2020[(mar2020.tolls_amount<0)|(mar2020.tolls_amount>10)].index)\n",
    "jan2020 = jan2020.drop(jan2020[(jan2020.tolls_amount<0)|(jan2020.tolls_amount>10)].index)"
   ]
  },
  {
   "cell_type": "markdown",
   "id": "d4871ede",
   "metadata": {},
   "source": [
    "### ride_time"
   ]
  },
  {
   "cell_type": "code",
   "execution_count": 40,
   "id": "2ad75e34",
   "metadata": {},
   "outputs": [
    {
     "name": "stdout",
     "output_type": "stream",
     "text": [
      "1234714    1439.933333\n",
      "666728     1439.766667\n",
      "531661     1439.700000\n",
      "1706546    1439.683333\n",
      "1388845    1439.650000\n",
      "              ...     \n",
      "943166     1438.283333\n",
      "2929641    1438.283333\n",
      "312423     1438.266667\n",
      "906042     1438.266667\n",
      "1340376    1438.266667\n",
      "Name: ride_time, Length: 200, dtype: float64\n"
     ]
    }
   ],
   "source": [
    "# fare_amount looks abnormal\n",
    "print(mar2020['ride_time'].nlargest(200))"
   ]
  },
  {
   "cell_type": "code",
   "execution_count": 41,
   "id": "01e97879",
   "metadata": {},
   "outputs": [],
   "source": [
    "mar2020 = mar2020.drop(mar2020[(mar2020.ride_time<=0)|(mar2020.ride_time>30)].index)\n",
    "jan2020 = jan2020.drop(jan2020[(jan2020.ride_time<=0)|(jan2020.ride_time>30)].index)"
   ]
  },
  {
   "cell_type": "markdown",
   "id": "525d0fcb",
   "metadata": {},
   "source": [
    "## Find Outliners"
   ]
  },
  {
   "cell_type": "code",
   "execution_count": 42,
   "id": "e8694df8",
   "metadata": {},
   "outputs": [],
   "source": [
    "import matplotlib.pyplot as plt"
   ]
  },
  {
   "cell_type": "code",
   "execution_count": 43,
   "id": "6e027d14",
   "metadata": {},
   "outputs": [
    {
     "data": {
      "image/png": "[encoded data removed]",
      "text/plain": [
       "<Figure size 1440x2880 with 1 Axes>"
      ]
     },
     "metadata": {
      "needs_background": "light"
     },
     "output_type": "display_data"
    }
   ],
   "source": [
    "plt.subplots(figsize=(20,40))\n",
    "plt.title(\"Outliners\")\n",
    "boxplot = mar2020.boxplot(column=['ride_time','total_amount','trip_distance'])"
   ]
  },
  {
   "cell_type": "markdown",
   "id": "8bea7ce5",
   "metadata": {},
   "source": [
    "# Perform EDA on data usilizing both method:"
   ]
  },
  {
   "cell_type": "markdown",
   "id": "37760447",
   "metadata": {},
   "source": [
    "## The TFDV (TensorFlow Data Validation)"
   ]
  },
  {
   "cell_type": "code",
   "execution_count": 45,
   "id": "d349b08e",
   "metadata": {},
   "outputs": [],
   "source": [
    "jan2020 = jan2020.replace({'N':0, 'Y':1})"
   ]
  },
  {
   "cell_type": "code",
   "execution_count": 46,
   "id": "b90faf9b",
   "metadata": {},
   "outputs": [
    {
     "data": {
      "text/html": [
       "<iframe id='facets-iframe' width=\"100%\" height=\"500px\"></iframe>\n",
       "        <script>\n",
       "        facets_iframe = document.getElementById('facets-iframe');\n",
       "        facets_html = '<script src=\"https://cdnjs.cloudflare.com/ajax/libs/webcomponentsjs/1.3.3/webcomponents-lite.js\"><\\/script><link rel=\"import\" href=\"https://raw.githubusercontent.com/PAIR-code/facets/master/facets-dist/facets-jupyter.html\"><facets-overview proto-input=\"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\"></facets-overview>';\n",
       "        facets_iframe.srcdoc = facets_html;\n",
       "         facets_iframe.id = \"\";\n",
       "         setTimeout(() => {\n",
       "           facets_iframe.setAttribute('height', facets_iframe.contentWindow.document.body.offsetHeight + 'px')\n",
       "         }, 1500)\n",
       "         </script>"
      ],
      "text/plain": [
       "<IPython.core.display.HTML object>"
      ]
     },
     "metadata": {},
     "output_type": "display_data"
    }
   ],
   "source": [
    "training_mar = tfdv.generate_statistics_from_dataframe(mar2020)\n",
    "training_jan = tfdv.generate_statistics_from_dataframe(jan2020)\n",
    "tfdv.visualize_statistics(lhs_statistics=training_jan, rhs_statistics=training_mar, lhs_name='Jan', rhs_name='Mar')"
   ]
  },
  {
   "cell_type": "markdown",
   "id": "74632a62",
   "metadata": {},
   "source": [
    "## Classic approach in EDA (Pandas, Numpy libraries)"
   ]
  },
  {
   "cell_type": "code",
   "execution_count": 47,
   "id": "dd828ea6",
   "metadata": {},
   "outputs": [],
   "source": [
    "import seaborn as sns"
   ]
  },
  {
   "cell_type": "markdown",
   "id": "be24f60d",
   "metadata": {},
   "source": [
    "### correlation heatmap"
   ]
  },
  {
   "cell_type": "code",
   "execution_count": 48,
   "id": "ebaabae5",
   "metadata": {},
   "outputs": [
    {
     "data": {
      "image/png": "[encoded data removed]",
      "text/plain": [
       "<Figure size 1440x1296 with 2 Axes>"
      ]
     },
     "metadata": {
      "needs_background": "light"
     },
     "output_type": "display_data"
    }
   ],
   "source": [
    "plt.figure(figsize=(20,18))\n",
    "corr_mar=mar2020.corr()\n",
    "sns.heatmap(corr_mar, linewidths=.5, cmap='RdYlBu', annot=True, fmt='.1f')\n",
    "plt.show()"
   ]
  },
  {
   "cell_type": "markdown",
   "id": "7f557782",
   "metadata": {},
   "source": [
    "### payment_type"
   ]
  },
  {
   "cell_type": "code",
   "execution_count": 54,
   "id": "1a2d9bde",
   "metadata": {},
   "outputs": [
    {
     "data": {
      "image/png": "[encoded data removed]",
      "text/plain": [
       "<Figure size 1440x576 with 1 Axes>"
      ]
     },
     "metadata": {},
     "output_type": "display_data"
    }
   ],
   "source": [
    "# frequencies of paymentType 1= Credit card 2= Cash 3= No charge 4= Dispute 5= Unknown 6= Voided trip\n",
    "values = mar2020['payment_type'].value_counts().index\n",
    "frequencies = mar2020['payment_type'].value_counts().values\n",
    "# PieChart\n",
    "fig = plt.figure(figsize=(20,8))\n",
    "fig.add_subplot(1,2,1)\n",
    "plt.title('Pie Chart for different Payment Types')\n",
    "colors=['yellow','pink','green','blue']\n",
    "labels=['CreditCard','Cash','NoCharge','Dispute']\n",
    "explode=[0,0,0,0]\n",
    "plt.pie(frequencies, colors=colors, labels=labels, explode=explode, autopct='%.2f%%',counterclock=False, startangle=90)\n",
    "plt.show()"
   ]
  },
  {
   "cell_type": "markdown",
   "id": "5f7eb55a",
   "metadata": {},
   "source": [
    "### passenger_count comparison Jan and Mar"
   ]
  },
  {
   "cell_type": "code",
   "execution_count": 56,
   "id": "1d9ede69",
   "metadata": {},
   "outputs": [],
   "source": [
    "passenger_mar = mar2020.groupby(['date']).sum().reset_index()\n",
    "passenger_mar['month']='mar2020'\n",
    "passenger_jan = jan2020.groupby(['date']).sum().reset_index()\n",
    "passenger_jan['month']='jan2020'\n",
    "passenger = pd.concat([passenger_jan, passenger_mar],axis=0).reset_index(drop=True)"
   ]
  },
  {
   "cell_type": "code",
   "execution_count": 58,
   "id": "74986fd3",
   "metadata": {},
   "outputs": [
    {
     "data": {
      "image/png": "[encoded data removed]",
      "text/plain": [
       "<Figure size 1440x864 with 1 Axes>"
      ]
     },
     "metadata": {
      "needs_background": "light"
     },
     "output_type": "display_data"
    }
   ],
   "source": [
    "plt.figure(figsize=(20,12))\n",
    "sns.lineplot(x=passenger['date'],y=passenger['passenger_count'],hue=passenger['month'],style=passenger['month']);\n",
    "plt.xticks(rotation=360, size=17)\n",
    "plt.yticks(size=20)\n",
    "plt.xlabel('date',size=20)\n",
    "plt.ylabel('passenger_count',size=20)\n",
    "plt.title('Jan vs Mar - Passenger Count', size=20)\n",
    "plt.legend(loc=3, prop={'size':20})\n",
    "plt.show()"
   ]
  },
  {
   "cell_type": "code",
   "execution_count": 60,
   "id": "d285ae0f",
   "metadata": {},
   "outputs": [],
   "source": [
    "# for compare\n",
    "import sweetviz as sv"
   ]
  },
  {
   "cell_type": "code",
   "execution_count": 61,
   "id": "d2634f8c",
   "metadata": {},
   "outputs": [
    {
     "data": {
      "application/vnd.jupyter.widget-view+json": {
       "model_id": "ec8c4b71ff634b90abb7168d99dbf5ee",
       "version_major": 2,
       "version_minor": 0
      },
      "text/plain": [
       "                                             |      | [  0%]   00:00 -> (? left)"
      ]
     },
     "metadata": {},
     "output_type": "display_data"
    },
    {
     "name": "stdout",
     "output_type": "stream",
     "text": [
      "Report Compare the data of Jan-2020 vs Mar-2020 was generated.\n"
     ]
    }
   ],
   "source": [
    "compare_report = sv.compare([jan2020,'Jan'],[mar2020,'Mar'],\"ride_time\")\n",
    "compare_report.show_html('Compare the data of Jan-2020 vs Mar-2020', open_browser=False)"
   ]
  }
 ],
 "metadata": {
  "kernelspec": {
   "display_name": "Python 3 (ipykernel)",
   "language": "python",
   "name": "python3"
  },
  "language_info": {
   "codemirror_mode": {
    "name": "ipython",
    "version": 3
   },
   "file_extension": ".py",
   "mimetype": "text/x-python",
   "name": "python",
   "nbconvert_exporter": "python",
   "pygments_lexer": "ipython3",
   "version": "3.9.12"
  }
 },
 "nbformat": 4,
 "nbformat_minor": 5
}
